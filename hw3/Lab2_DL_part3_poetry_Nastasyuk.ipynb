{
  "cells": [
    {
      "cell_type": "markdown",
      "metadata": {
        "id": "P9Ww9sfbJmd3"
      },
      "source": [
        "## Lab 2"
      ]
    },
    {
      "cell_type": "markdown",
      "metadata": {
        "id": "8SJhVh9EJmd4"
      },
      "source": [
        "### Part 3. Poetry generation\n",
        "\n",
        "Let's try to generate some poetry using RNNs. \n",
        "\n",
        "You have several choices here: \n",
        "\n",
        "* The Shakespeare sonnets, file `sonnets.txt` available in the notebook directory.\n",
        "\n",
        "* Роман в стихах \"Евгений Онегин\" Александра Сергеевича Пушкина. В предобработанном виде доступен по [ссылке](https://github.com/attatrol/data_sources/blob/master/onegin.txt).\n",
        "\n",
        "* Some other text source, if it will be approved by the course staff.\n",
        "\n",
        "Text generation can be designed in several steps:\n",
        "    \n",
        "1. Data loading.\n",
        "2. Dictionary generation.\n",
        "3. Data preprocessing.\n",
        "4. Model (neural network) training.\n",
        "5. Text generation (model evaluation).\n"
      ]
    },
    {
      "cell_type": "code",
      "execution_count": 1,
      "metadata": {
        "id": "PddUQP82Jmd5"
      },
      "outputs": [],
      "source": [
        "import string\n",
        "import os"
      ]
    },
    {
      "cell_type": "markdown",
      "metadata": {
        "id": "_yJKOGiuJmd6"
      },
      "source": [
        "### Data loading: Shakespeare"
      ]
    },
    {
      "cell_type": "markdown",
      "metadata": {
        "id": "8u7EcsVuJmd6"
      },
      "source": [
        "Shakespeare sonnets are awailable at this [link](http://www.gutenberg.org/ebooks/1041?msg=welcome_stranger). In addition, they are stored in the same directory as this notebook (`sonnetes.txt`). Simple preprocessing is already done for you in the next cell: all technical info is dropped."
      ]
    },
    {
      "cell_type": "code",
      "execution_count": 16,
      "metadata": {
        "collapsed": true,
        "id": "6zTsrX7yJmd6"
      },
      "outputs": [],
      "source": [
        "if not os.path.exists('sonnets.txt'):\n",
        "    !wget https://raw.githubusercontent.com/girafe-ai/ml-mipt/21f_basic/homeworks_basic/lab02_deep_learning/sonnets.txt\n",
        "\n",
        "with open('sonnets.txt', 'r') as iofile:\n",
        "    text = iofile.readlines()\n",
        "    \n",
        "TEXT_START = 45\n",
        "TEXT_END = -368\n",
        "text = text[TEXT_START : TEXT_END]\n",
        "assert len(text) == 2616"
      ]
    },
    {
      "cell_type": "markdown",
      "metadata": {
        "id": "IdTPVoFSJmd6"
      },
      "source": [
        "In opposite to the in-class practice, this time we want to predict complex text. Let's reduce the complexity of the task and lowercase all the symbols.\n",
        "\n",
        "Now variable `text` is a list of strings. Join all the strings into one and lowercase it."
      ]
    },
    {
      "cell_type": "code",
      "execution_count": 18,
      "metadata": {
        "colab": {
          "base_uri": "https://localhost:8080/"
        },
        "id": "JPMJ9Zl0Jmd6",
        "outputId": "1a34a085-89f3-43ac-cbe6-7b59519dbeb4"
      },
      "outputs": [
        {
          "output_type": "stream",
          "name": "stdout",
          "text": [
            "OK!\n"
          ]
        }
      ],
      "source": [
        "# Join all the strings into one and lowercase it\n",
        "# Put result into variable text.\n",
        "\n",
        "# Your great code here\n",
        "text_shakespeare = ''.join([line.lower() for line in text])\n",
        "\n",
        "assert len(text_shakespeare) == 100225, 'Are you sure you have concatenated all the strings?'\n",
        "assert not any([x in set(text) for x in string.ascii_uppercase]), 'Uppercase letters are present'\n",
        "print('OK!')"
      ]
    },
    {
      "cell_type": "markdown",
      "metadata": {
        "id": "gzvzxxP_Jmd7"
      },
      "source": [
        "### Data loading: \"Евгений Онегин\"\n"
      ]
    },
    {
      "cell_type": "code",
      "execution_count": 19,
      "metadata": {
        "colab": {
          "base_uri": "https://localhost:8080/"
        },
        "id": "vWc5MAfyJmd7",
        "outputId": "51a178a1-134f-43ef-8bdb-2e68ab81d219"
      },
      "outputs": [
        {
          "output_type": "stream",
          "name": "stdout",
          "text": [
            "--2022-05-28 19:44:43--  https://raw.githubusercontent.com/attatrol/data_sources/master/onegin.txt\n",
            "Resolving raw.githubusercontent.com (raw.githubusercontent.com)... 185.199.111.133, 185.199.110.133, 185.199.109.133, ...\n",
            "Connecting to raw.githubusercontent.com (raw.githubusercontent.com)|185.199.111.133|:443... connected.\n",
            "HTTP request sent, awaiting response... 200 OK\n",
            "Length: 262521 (256K) [text/plain]\n",
            "Saving to: ‘onegin.txt.1’\n",
            "\n",
            "\ronegin.txt.1          0%[                    ]       0  --.-KB/s               \ronegin.txt.1        100%[===================>] 256.37K  --.-KB/s    in 0.04s   \n",
            "\n",
            "2022-05-28 19:44:43 (6.78 MB/s) - ‘onegin.txt.1’ saved [262521/262521]\n",
            "\n"
          ]
        }
      ],
      "source": [
        "!wget https://raw.githubusercontent.com/attatrol/data_sources/master/onegin.txt\n",
        "    \n",
        "with open('onegin.txt', 'r') as iofile:\n",
        "    text = iofile.readlines()\n",
        "    \n",
        "text = [x.replace('\\t\\t', '') for x in text]"
      ]
    },
    {
      "cell_type": "markdown",
      "metadata": {
        "id": "79CK9xCmJmd7"
      },
      "source": [
        "In opposite to the in-class practice, this time we want to predict complex text. Let's reduce the complexity of the task and lowercase all the symbols.\n",
        "\n",
        "Now variable `text` is a list of strings. Join all the strings into one and lowercase it."
      ]
    },
    {
      "cell_type": "code",
      "execution_count": 33,
      "metadata": {
        "id": "t0WYd4yIJmd8"
      },
      "outputs": [],
      "source": [
        "# Join all the strings into one and lowercase it\n",
        "# Put result into variable text.\n",
        "\n",
        "# Your great code here\n",
        "text_onegin = ''.join([line.lower() for line in text])\n"
      ]
    },
    {
      "cell_type": "markdown",
      "metadata": {
        "id": "UEJLHBZtJmd8"
      },
      "source": [
        "Put all the characters, that you've seen in the text, into variable `tokens`."
      ]
    },
    {
      "cell_type": "code",
      "execution_count": 34,
      "metadata": {
        "id": "7ec6P_pyJmd8"
      },
      "outputs": [],
      "source": [
        "tokens = sorted(set(text_onegin))"
      ]
    },
    {
      "cell_type": "markdown",
      "metadata": {
        "id": "3XA3DIFvJmd8"
      },
      "source": [
        "Create dictionary `token_to_idx = {<char>: <index>}` and dictionary `idx_to_token = {<index>: <char>}`"
      ]
    },
    {
      "cell_type": "code",
      "source": [
        "token_to_idx = {\n",
        "    e : i for i, e in enumerate(tokens)\n",
        "}\n",
        "\n",
        "idx_to_token = {\n",
        "    i : e for i, e in enumerate(tokens)\n",
        "}"
      ],
      "metadata": {
        "id": "FHJgsB0WP2qQ"
      },
      "execution_count": 35,
      "outputs": []
    },
    {
      "cell_type": "code",
      "source": [
        "import numpy as np"
      ],
      "metadata": {
        "id": "heifnW36Tzm9"
      },
      "execution_count": 37,
      "outputs": []
    },
    {
      "cell_type": "code",
      "source": [
        "encoded_text = np.array([token_to_idx[ch] for ch in text_onegin])"
      ],
      "metadata": {
        "id": "A05RlZA7TqIz"
      },
      "execution_count": 39,
      "outputs": []
    },
    {
      "cell_type": "code",
      "source": [
        "len(tokens)"
      ],
      "metadata": {
        "colab": {
          "base_uri": "https://localhost:8080/"
        },
        "id": "5rMIo4dnT4oM",
        "outputId": "f07623d1-c7c6-40fb-ecbf-14a9b2a92d1c"
      },
      "execution_count": 40,
      "outputs": [
        {
          "output_type": "execute_result",
          "data": {
            "text/plain": [
              "83"
            ]
          },
          "metadata": {},
          "execution_count": 40
        }
      ]
    },
    {
      "cell_type": "markdown",
      "metadata": {
        "id": "R63MwREPJmd9"
      },
      "source": [
        "*Comment: in this task we have only 38 different tokens, so let's use one-hot encoding.*"
      ]
    },
    {
      "cell_type": "markdown",
      "metadata": {
        "id": "x2Zh-7YzJmd9"
      },
      "source": [
        "### Building the model"
      ]
    },
    {
      "cell_type": "markdown",
      "metadata": {
        "id": "B1RVnyoLJmd9"
      },
      "source": [
        "Now we want to build and train recurrent neural net which would be able to something similar to Shakespeare's poetry.\n",
        "\n",
        "Let's use vanilla RNN, similar to the one created during the lesson."
      ]
    },
    {
      "cell_type": "code",
      "execution_count": 24,
      "metadata": {
        "collapsed": true,
        "id": "_550aG7gJmd9"
      },
      "outputs": [],
      "source": [
        "# Your code here\n",
        "import torch, torch.nn as nn\n",
        "import torch.nn.functional as F"
      ]
    },
    {
      "cell_type": "code",
      "source": [
        "n_classes = 83\n",
        "batch_size = 16\n",
        "seq_length = 50\n",
        "n_epochs = 30\n",
        "\n",
        "train_data, val_data = encoded_text[:len(encoded_text) * 8 // 10], encoded_text[len(encoded_text) * 8 // 10:]"
      ],
      "metadata": {
        "id": "hxRtDJb-UIn7"
      },
      "execution_count": 41,
      "outputs": []
    },
    {
      "cell_type": "code",
      "source": [
        "len(train_data)"
      ],
      "metadata": {
        "colab": {
          "base_uri": "https://localhost:8080/"
        },
        "id": "D_ZkXL-dRG_s",
        "outputId": "d9c47e82-41f2-47dc-cd3f-21d8f3c34af0"
      },
      "execution_count": 107,
      "outputs": [
        {
          "output_type": "execute_result",
          "data": {
            "text/plain": [
              "113510"
            ]
          },
          "metadata": {},
          "execution_count": 107
        }
      ]
    },
    {
      "cell_type": "code",
      "source": [
        "class CharRNN_OHE(nn.Module):\n",
        "    def __init__(self, n_classes, n_hidden = 256, num_layers=1):\n",
        "        super(self.__class__, self).__init__()\n",
        "        self.n_classes = n_classes\n",
        "        self.n_hidden = n_hidden\n",
        "        self.num_layers = num_layers\n",
        "        \n",
        "        self.emb = nn.Embedding.from_pretrained(torch.eye(self.n_classes))\n",
        "        self.rnn = nn.RNN(self.n_classes, self.n_hidden, self.num_layers, batch_first=True)\n",
        "        self.act = nn.LeakyReLU()\n",
        "        self.drp = nn.Dropout()\n",
        "        self.fc = nn.Linear(self.n_hidden, self.n_classes)\n",
        "        \n",
        "    def forward(self, x, hid = None):\n",
        "        if hid == None:\n",
        "            hid = torch.zeros(self.num_layers, x.size(0), self.n_hidden)\n",
        "            \n",
        "        x_ohe = self.emb(x)\n",
        "        out, hid = self.rnn(x_ohe, hid)\n",
        "        out = out.contiguous().view(-1, self.n_hidden)\n",
        "        out = self.act(out)\n",
        "        out = self.drp(out)\n",
        "        out = self.fc(out)\n",
        "        return out, hid"
      ],
      "metadata": {
        "id": "47PuinWVUKyI"
      },
      "execution_count": 111,
      "outputs": []
    },
    {
      "cell_type": "code",
      "source": [
        "def get_batches(arr, batch_size, seq_length):\n",
        "    batch_size_total = batch_size * seq_length\n",
        "    n_batches = len(arr) // batch_size_total\n",
        "    arr = arr[:n_batches * batch_size_total]\n",
        "    arr = arr.reshape((batch_size, -1))\n",
        "\n",
        "    for n in range(0, arr.shape[1], seq_length):\n",
        "        x = arr[:, n:n + seq_length]\n",
        "        y = np.zeros_like(x)\n",
        "        try:\n",
        "            y[:, :-1], y[:, -1] = x[:, 1:], arr[:, n + seq_length]\n",
        "        except IndexError:\n",
        "            y[:, :-1], y[:, -1] = x[:, 1:], arr[:, 0]\n",
        "        yield x, y"
      ],
      "metadata": {
        "id": "8zbeLnazUQk5"
      },
      "execution_count": 112,
      "outputs": []
    },
    {
      "cell_type": "code",
      "source": [
        "from typing import Tuple, List, Type, Dict, Any\n",
        "import matplotlib.pyplot as plt"
      ],
      "metadata": {
        "id": "QL7AYqn4UZmV"
      },
      "execution_count": 110,
      "outputs": []
    },
    {
      "cell_type": "code",
      "source": [
        "def train_model(net, train_data, val_data, criterion, \n",
        "                opt, lr_scheduler_class: Any = torch.optim.lr_scheduler.ReduceLROnPlateau, lr_scheduler_params: Dict = {}):\n",
        "    val_loss = []\n",
        "    train_loss = []\n",
        "    \n",
        "    lr_scheduler = lr_scheduler_class(opt, **lr_scheduler_params)\n",
        "\n",
        "    for epoch in range(n_epochs):\n",
        "                \n",
        "        ep_val_loss = []\n",
        "        ep_train_loss = []\n",
        "\n",
        "        net.train()\n",
        "        for x, y in get_batches(train_data, batch_size, seq_length):\n",
        "            inputs, targets = torch.from_numpy(x), torch.from_numpy(y)\n",
        "            targets = targets.reshape((batch_size * seq_length,))\n",
        "            \n",
        "            net.zero_grad()\n",
        "            output, hidden = net(inputs)\n",
        "\n",
        "            loss = criterion(output, targets.long())\n",
        "            loss.backward()\n",
        "            \n",
        "            ep_train_loss.append(loss.item())\n",
        "            opt.step()\n",
        "            \n",
        "        net.eval()\n",
        "        for x, y in get_batches(val_data, batch_size, seq_length):\n",
        "            inputs, targets = torch.from_numpy(x), torch.from_numpy(y)\n",
        "            targets = targets.reshape((batch_size * seq_length,))\n",
        "            \n",
        "            output, val_hidden = net(inputs)\n",
        "\n",
        "            loss = criterion(output, targets.long()) \n",
        "            \n",
        "            ep_val_loss.append(loss.item())\n",
        "        \n",
        "        lr_scheduler.step(loss.item())\n",
        "        \n",
        "        print(f'Epoch {epoch + 1} of {n_epochs}')\n",
        "\n",
        "        train_loss.append(np.mean(ep_train_loss))\n",
        "        val_loss.append(np.mean(ep_val_loss))\n",
        "        \n",
        "        print(f\"\\t  training loss: {train_loss[-1]:.6f}\")\n",
        "        print(f\"\\tvalidation loss: {val_loss[-1]:.6f}\")\n",
        "\n",
        "    return train_loss, val_loss"
      ],
      "metadata": {
        "id": "mRWxSsHOUSz0"
      },
      "execution_count": 46,
      "outputs": []
    },
    {
      "cell_type": "code",
      "source": [
        "model_rnn = CharRNN_OHE(n_classes)\n",
        "opt = torch.optim.Adam(model_rnn.parameters())\n",
        "criterion = nn.CrossEntropyLoss()\n",
        "\n",
        "train_loss, val_loss = train_model(model_rnn, train_data, val_data, criterion, opt)"
      ],
      "metadata": {
        "colab": {
          "base_uri": "https://localhost:8080/"
        },
        "id": "bXfQYQGZUj-u",
        "outputId": "d9b7d296-1d40-485a-f634-9e19f780119b"
      },
      "execution_count": 102,
      "outputs": [
        {
          "output_type": "stream",
          "name": "stdout",
          "text": [
            "Epoch 1 of 30\n",
            "\t  training loss: 3.423910\n",
            "\tvalidation loss: 3.295817\n",
            "Epoch 2 of 30\n",
            "\t  training loss: 3.185479\n",
            "\tvalidation loss: 2.996445\n",
            "Epoch 3 of 30\n",
            "\t  training loss: 2.887813\n",
            "\tvalidation loss: 2.747546\n",
            "Epoch 4 of 30\n",
            "\t  training loss: 2.726960\n",
            "\tvalidation loss: 2.623660\n",
            "Epoch 5 of 30\n",
            "\t  training loss: 2.628680\n",
            "\tvalidation loss: 2.540603\n",
            "Epoch 6 of 30\n",
            "\t  training loss: 2.558248\n",
            "\tvalidation loss: 2.481630\n",
            "Epoch 7 of 30\n",
            "\t  training loss: 2.499292\n",
            "\tvalidation loss: 2.436999\n",
            "Epoch 8 of 30\n",
            "\t  training loss: 2.457494\n",
            "\tvalidation loss: 2.388475\n",
            "Epoch 9 of 30\n",
            "\t  training loss: 2.415825\n",
            "\tvalidation loss: 2.358085\n",
            "Epoch 10 of 30\n",
            "\t  training loss: 2.385632\n",
            "\tvalidation loss: 2.331862\n",
            "Epoch 11 of 30\n",
            "\t  training loss: 2.366772\n",
            "\tvalidation loss: 2.310457\n",
            "Epoch 12 of 30\n",
            "\t  training loss: 2.345838\n",
            "\tvalidation loss: 2.290650\n",
            "Epoch 13 of 30\n",
            "\t  training loss: 2.324724\n",
            "\tvalidation loss: 2.276958\n",
            "Epoch 14 of 30\n",
            "\t  training loss: 2.309027\n",
            "\tvalidation loss: 2.264259\n",
            "Epoch 15 of 30\n",
            "\t  training loss: 2.297400\n",
            "\tvalidation loss: 2.246633\n",
            "Epoch 16 of 30\n",
            "\t  training loss: 2.284058\n",
            "\tvalidation loss: 2.240047\n",
            "Epoch 17 of 30\n",
            "\t  training loss: 2.271754\n",
            "\tvalidation loss: 2.232323\n",
            "Epoch 18 of 30\n",
            "\t  training loss: 2.259638\n",
            "\tvalidation loss: 2.216421\n",
            "Epoch 19 of 30\n",
            "\t  training loss: 2.246879\n",
            "\tvalidation loss: 2.212831\n",
            "Epoch 20 of 30\n",
            "\t  training loss: 2.236539\n",
            "\tvalidation loss: 2.205758\n",
            "Epoch 21 of 30\n",
            "\t  training loss: 2.230577\n",
            "\tvalidation loss: 2.199546\n",
            "Epoch 22 of 30\n",
            "\t  training loss: 2.216698\n",
            "\tvalidation loss: 2.186015\n",
            "Epoch 23 of 30\n",
            "\t  training loss: 2.210036\n",
            "\tvalidation loss: 2.180328\n",
            "Epoch 24 of 30\n",
            "\t  training loss: 2.201345\n",
            "\tvalidation loss: 2.173749\n",
            "Epoch 25 of 30\n",
            "\t  training loss: 2.196288\n",
            "\tvalidation loss: 2.173898\n",
            "Epoch 26 of 30\n",
            "\t  training loss: 2.189210\n",
            "\tvalidation loss: 2.164271\n",
            "Epoch 27 of 30\n",
            "\t  training loss: 2.178707\n",
            "\tvalidation loss: 2.160807\n",
            "Epoch 28 of 30\n",
            "\t  training loss: 2.172990\n",
            "\tvalidation loss: 2.154047\n",
            "Epoch 29 of 30\n",
            "\t  training loss: 2.166609\n",
            "\tvalidation loss: 2.153246\n",
            "Epoch 30 of 30\n",
            "\t  training loss: 2.157154\n",
            "\tvalidation loss: 2.147129\n"
          ]
        }
      ]
    },
    {
      "cell_type": "markdown",
      "metadata": {
        "id": "UiXMOWVwJmd9"
      },
      "source": [
        "Plot the loss function (axis X: number of epochs, axis Y: loss function)."
      ]
    },
    {
      "cell_type": "code",
      "execution_count": 103,
      "metadata": {
        "collapsed": true,
        "colab": {
          "base_uri": "https://localhost:8080/",
          "height": 499
        },
        "id": "8-R8Yng_Jmd9",
        "outputId": "840bae12-bac5-41e5-aebe-e61af34d4288"
      },
      "outputs": [
        {
          "output_type": "display_data",
          "data": {
            "text/plain": [
              "<Figure size 1152x576 with 1 Axes>"
            ],
            "image/png": "[encoded data removed]"
          },
          "metadata": {
            "needs_background": "light"
          }
        }
      ],
      "source": [
        "# Your plot code here\n",
        "plt.figure(figsize=(16, 8))\n",
        "plt.title('RNN Loss')\n",
        "plt.xlabel = 'Epochs'\n",
        "plt.ylabel = 'Value'\n",
        "plt.plot(train_loss, label='train')\n",
        "plt.plot(val_loss, label='validation')\n",
        "plt.grid()\n",
        "plt.legend(); "
      ]
    },
    {
      "cell_type": "code",
      "source": [
        "def generate_sample(char_rnn, seed_phrase=' привет', max_length=500, temperature=0.2):\n",
        "    '''\n",
        "    ### Disclaimer: this is an example function for text generation.\n",
        "    ### You can either adapt it in your code or create your own function\n",
        "    \n",
        "    The function generates text given a phrase of length at least SEQ_LENGTH.\n",
        "    :param seed_phrase: prefix characters. The RNN is asked to continue the phrase\n",
        "    :param max_length: maximum output length, including seed_phrase\n",
        "    :param temperature: coefficient for sampling.  higher temperature produces more chaotic outputs, \n",
        "        smaller temperature converges to the single most likely output.\n",
        "        \n",
        "    Be careful with the model output. This model waits logits (not probabilities/log-probabilities)\n",
        "    of the next symbol.\n",
        "    '''\n",
        "    char_rnn.eval()\n",
        "    x_sequence = [token_to_idx[token] for token in seed_phrase]\n",
        "    x_sequence = torch.tensor([[x_sequence]], dtype=torch.int64)\n",
        "    hid_state = None\n",
        "    \n",
        "    #feed the seed phrase, if any\n",
        "    for i in range(len(seed_phrase) - 1):\n",
        "        out, hid_state = char_rnn(x_sequence[:, :, i], hid_state)\n",
        "    \n",
        "    #start generating\n",
        "    for _ in range(max_length - len(seed_phrase)):\n",
        "        out, hid_state = char_rnn(x_sequence[:, :, -1], hid_state)\n",
        "        p_next = F.softmax(out / temperature, dim=-1).data.numpy()[0]\n",
        "        \n",
        "        # sample next token and push it back into x_sequence\n",
        "        next_ix = np.random.choice(len(tokens), p=p_next)\n",
        "        next_ix = torch.tensor([[next_ix]], dtype=torch.int64)\n",
        "        x_sequence = torch.cat([x_sequence, next_ix[None, :, :]], dim=2)\n",
        "        \n",
        "    return ''.join([tokens[ix] for ix in x_sequence.data.numpy()[0][0]])"
      ],
      "metadata": {
        "id": "shYpUKgfWke4"
      },
      "execution_count": 104,
      "outputs": []
    },
    {
      "cell_type": "code",
      "execution_count": 105,
      "metadata": {
        "colab": {
          "base_uri": "https://localhost:8080/"
        },
        "id": "zbWn7LZVJmd-",
        "outputId": "33e9e28c-f4f9-4d2a-8933-e95552b1e4c5"
      },
      "outputs": [
        {
          "output_type": "stream",
          "name": "stdout",
          "text": [
            " приветный стольной сторой\n",
            "и молоде сердце верет,\n",
            "на стольно посли был соледный,\n",
            "не старит сердца в сердце сердца ворой\n",
            "в сем не верно пострала сольной\n",
            "и страсте сердца постола\n",
            "и страсте сердце сердца посторет,\n",
            "и постали доворит сердца,\n",
            "до же страла стольный молодный,\n",
            "и стари простовой сонец\n",
            "и постола страстельной подом\n",
            "и странный сердце поретельный сердца,\n",
            "когда с постали стариный\n",
            "и страчный сольно в сердце притом,\n",
            "и в сем простали с постали сольной,\n",
            "онегин он сердце в сем не стало,\n",
            "и странит с\n"
          ]
        }
      ],
      "source": [
        "# An example of generated text.\n",
        "# print(generate_text(length=500, temperature=0.2))\n",
        "print(generate_sample(model_rnn))"
      ]
    },
    {
      "cell_type": "markdown",
      "metadata": {
        "id": "M6nGeNucJmd-"
      },
      "source": [
        "### More poetic model\n",
        "\n",
        "Let's use LSTM instead of vanilla RNN and compare the results."
      ]
    },
    {
      "cell_type": "markdown",
      "metadata": {
        "id": "SNFVX9OxJmd-"
      },
      "source": [
        "Plot the loss function of the number of epochs. Does the final loss become better?"
      ]
    },
    {
      "cell_type": "code",
      "execution_count": 80,
      "metadata": {
        "collapsed": true,
        "id": "kZXZoxV1Jmd-"
      },
      "outputs": [],
      "source": [
        "# Your beautiful code here\n",
        "\n",
        "class CharLSTM_OHE(nn.Module):\n",
        "    def __init__(self, n_classes, n_hidden = 256, num_layers = 1):\n",
        "        super(self.__class__, self).__init__()\n",
        "        self.n_classes = n_classes\n",
        "        self.n_hidden = n_hidden\n",
        "        self.num_layers = num_layers\n",
        "        \n",
        "        self.emb = nn.Embedding.from_pretrained(torch.eye(self.n_classes))\n",
        "        self.lstm = nn.LSTM(self.n_classes, self.n_hidden, self.num_layers, batch_first=True)\n",
        "        self.act = nn.LeakyReLU()\n",
        "        self.drp = nn.Dropout()\n",
        "        self.fc = nn.Linear(self.n_hidden, self.n_classes)\n",
        "        \n",
        "    def forward(self, x, hid = None):\n",
        "        if hid == None:\n",
        "            hid = (torch.zeros(self.num_layers, x.size(0), self.n_hidden), \n",
        "                   torch.zeros(self.num_layers, x.size(0), self.n_hidden))\n",
        "            \n",
        "        x_ohe = self.emb(x)\n",
        "        out, hid = self.lstm(x_ohe, hid)\n",
        "        out = out.contiguous().view(-1, self.n_hidden)\n",
        "        out = self.act(out)\n",
        "        out = self.drp(out)\n",
        "        out = self.fc(out)\n",
        "        return out, hid"
      ]
    },
    {
      "cell_type": "code",
      "source": [
        "model_lstm = CharLSTM_OHE(n_classes)\n",
        "opt = torch.optim.Adam(model_lstm.parameters())\n",
        "criterion = nn.CrossEntropyLoss()\n",
        "\n",
        "train_loss_lstm, val_loss_lstm = train_model(model_lstm, train_data, val_data, criterion, opt)"
      ],
      "metadata": {
        "colab": {
          "base_uri": "https://localhost:8080/"
        },
        "id": "cf9W5va5XySu",
        "outputId": "af0406d5-962e-490d-fc81-203261f0d6b5"
      },
      "execution_count": 81,
      "outputs": [
        {
          "output_type": "stream",
          "name": "stdout",
          "text": [
            "Epoch 1 of 30\n",
            "\t  training loss: 3.453941\n",
            "\tvalidation loss: 3.318359\n",
            "Epoch 2 of 30\n",
            "\t  training loss: 3.261539\n",
            "\tvalidation loss: 3.153773\n",
            "Epoch 3 of 30\n",
            "\t  training loss: 3.067125\n",
            "\tvalidation loss: 2.941929\n",
            "Epoch 4 of 30\n",
            "\t  training loss: 2.907692\n",
            "\tvalidation loss: 2.807006\n",
            "Epoch 5 of 30\n",
            "\t  training loss: 2.803622\n",
            "\tvalidation loss: 2.719318\n",
            "Epoch 6 of 30\n",
            "\t  training loss: 2.733952\n",
            "\tvalidation loss: 2.660486\n",
            "Epoch 7 of 30\n",
            "\t  training loss: 2.682416\n",
            "\tvalidation loss: 2.616137\n",
            "Epoch 8 of 30\n",
            "\t  training loss: 2.643214\n",
            "\tvalidation loss: 2.581674\n",
            "Epoch 9 of 30\n",
            "\t  training loss: 2.609550\n",
            "\tvalidation loss: 2.548625\n",
            "Epoch 10 of 30\n",
            "\t  training loss: 2.581424\n",
            "\tvalidation loss: 2.521363\n",
            "Epoch 11 of 30\n",
            "\t  training loss: 2.555604\n",
            "\tvalidation loss: 2.506946\n",
            "Epoch 12 of 30\n",
            "\t  training loss: 2.533040\n",
            "\tvalidation loss: 2.480406\n",
            "Epoch 13 of 30\n",
            "\t  training loss: 2.514457\n",
            "\tvalidation loss: 2.457931\n",
            "Epoch 14 of 30\n",
            "\t  training loss: 2.495843\n",
            "\tvalidation loss: 2.443392\n",
            "Epoch 15 of 30\n",
            "\t  training loss: 2.477507\n",
            "\tvalidation loss: 2.426587\n",
            "Epoch 16 of 30\n",
            "\t  training loss: 2.460234\n",
            "\tvalidation loss: 2.410618\n",
            "Epoch 17 of 30\n",
            "\t  training loss: 2.448771\n",
            "\tvalidation loss: 2.398365\n",
            "Epoch 18 of 30\n",
            "\t  training loss: 2.433588\n",
            "\tvalidation loss: 2.383529\n",
            "Epoch 19 of 30\n",
            "\t  training loss: 2.419699\n",
            "\tvalidation loss: 2.372380\n",
            "Epoch 20 of 30\n",
            "\t  training loss: 2.403651\n",
            "\tvalidation loss: 2.357605\n",
            "Epoch 21 of 30\n",
            "\t  training loss: 2.393586\n",
            "\tvalidation loss: 2.345109\n",
            "Epoch 22 of 30\n",
            "\t  training loss: 2.380736\n",
            "\tvalidation loss: 2.335659\n",
            "Epoch 23 of 30\n",
            "\t  training loss: 2.367479\n",
            "\tvalidation loss: 2.322083\n",
            "Epoch 24 of 30\n",
            "\t  training loss: 2.357604\n",
            "\tvalidation loss: 2.311532\n",
            "Epoch 25 of 30\n",
            "\t  training loss: 2.345506\n",
            "\tvalidation loss: 2.310106\n",
            "Epoch 26 of 30\n",
            "\t  training loss: 2.335335\n",
            "\tvalidation loss: 2.291330\n",
            "Epoch 27 of 30\n",
            "\t  training loss: 2.322363\n",
            "\tvalidation loss: 2.281624\n",
            "Epoch 28 of 30\n",
            "\t  training loss: 2.311293\n",
            "\tvalidation loss: 2.272536\n",
            "Epoch 29 of 30\n",
            "\t  training loss: 2.299593\n",
            "\tvalidation loss: 2.263911\n",
            "Epoch 30 of 30\n",
            "\t  training loss: 2.290440\n",
            "\tvalidation loss: 2.256040\n"
          ]
        }
      ]
    },
    {
      "cell_type": "code",
      "source": [
        "plt.figure(figsize=(16, 8))\n",
        "plt.title('LSTM Loss')\n",
        "plt.xlabel = 'Epochs'\n",
        "plt.ylabel = 'Value'\n",
        "plt.plot(train_loss_lstm, label='train')\n",
        "plt.plot(val_loss_lstm, label='validation')\n",
        "plt.grid()\n",
        "plt.legend(); "
      ],
      "metadata": {
        "colab": {
          "base_uri": "https://localhost:8080/",
          "height": 499
        },
        "id": "nKY91k9-X5xC",
        "outputId": "2f2f676a-1d88-428b-adef-1f95ab40e97a"
      },
      "execution_count": 82,
      "outputs": [
        {
          "output_type": "display_data",
          "data": {
            "text/plain": [
              "<Figure size 1152x576 with 1 Axes>"
            ],
            "image/png": "[encoded data removed]"
          },
          "metadata": {
            "needs_background": "light"
          }
        }
      ]
    },
    {
      "cell_type": "code",
      "source": [
        "print(generate_sample(model_lstm))"
      ],
      "metadata": {
        "colab": {
          "base_uri": "https://localhost:8080/"
        },
        "id": "TjNa7amKX7Jh",
        "outputId": "7873b6aa-7d2b-4d19-94bd-4ead4b4353e1"
      },
      "execution_count": 91,
      "outputs": [
        {
          "output_type": "stream",
          "name": "stdout",
          "text": [
            " приветь не посераний,\n",
            "и все не сторо страсталиный,\n",
            "в перет полодо слада сторой\n",
            "и стора не просталенье,\n",
            "сталаний стол не страстова,\n",
            "и мола не постали сторень,\n",
            "и подол серости на дала\n",
            "и постали серда с оболины,\n",
            "постовет не старать и полод\n",
            "и сторов оне стала не поль\n",
            "и не постоли в сердце не прода\n",
            "и в солено поровой водов,\n",
            "посторный посторов постала\n",
            "и сторовит сердце стара,\n",
            "с поров оне столи не стора\n",
            "и меренен он постолиный,\n",
            "и сторет и посталений,\n",
            "но столь состаль и страсталь,\n",
            "он он стора не потола\n"
          ]
        }
      ]
    },
    {
      "cell_type": "markdown",
      "metadata": {
        "id": "AO3MNNYhJmd-"
      },
      "source": [
        "Generate text using the trained net with different `temperature` parameter: `[0.1, 0.2, 0.5, 1.0, 2.0]`.\n",
        "\n",
        "Evaluate the results visually, try to interpret them."
      ]
    },
    {
      "cell_type": "code",
      "execution_count": 114,
      "metadata": {
        "collapsed": true,
        "colab": {
          "base_uri": "https://localhost:8080/"
        },
        "id": "1x1JW9WvJmd_",
        "outputId": "4156e6b4-3dcf-4d44-e34b-928e0f384ca0"
      },
      "outputs": [
        {
          "output_type": "stream",
          "name": "stdout",
          "text": [
            "Temperature =  0.1\n",
            " приветь на восто на стали\n",
            "и постоль он он он поленный,\n",
            "в посто на стора с отрадаль\n",
            "и постовет он посталанье\n",
            "посторов оне стораний,\n",
            "и сторов сердце постала\n",
            "и стора сторов сердце там\n",
            "и постоли сердце сторать,\n",
            "и стора с остала не серен\n",
            "и в сердце странит сердце сторой\n",
            "и постоль он постовет он оне\n",
            "на предет постали не ворень,\n",
            "и сторо не постала на стол\n",
            "и стора с остала с одала\n",
            "и сторов и все стора,\n",
            "и в сердце столи сердце стола\n",
            "и страсти в сердце стора стора\n",
            "и в сердце стора с одрадаль\n",
            "и посталь он \n",
            "\n",
            "Temperature =  0.2\n",
            " приветь поленье сердали\n",
            "и полит сердце не сорим.\n",
            "\n",
            "\n",
            "\n",
            "xxii\n",
            "\n",
            "не столь воста в серда на сорой\n",
            "постала на столе не света\n",
            "и постолов он посталаны,\n",
            "и всё стростов полого нестой,\n",
            "в серести стора с остаранный,\n",
            "в то стала в остора свое нем\n",
            "и подаль и сердце в сердце столе\n",
            "и молит сердце посталась,\n",
            "и в сердце стола с одоной\n",
            "посталь не воденный старит,\n",
            "на лода не продали стале\n",
            "и сторов сторене на ветой\n",
            "свето комол сердце горова\n",
            "то стора на сердали водом\n",
            "и всё на сталиный верен,\n",
            "и продаль сердце стера сель\n",
            " \n",
            "\n",
            "Temperature =  0.5\n",
            " приветя,\n",
            "позим он на мутом на вень\n",
            "\n",
            "\n",
            "\n",
            "xxvii\n",
            "\n",
            "так дова полого дема\n",
            "он учаве стораная,\n",
            "калестленный сеновно,\n",
            "и с ода же лани молонья\n",
            "пристаналонье своедитом\n",
            "на не страза ледом валась.\n",
            "\n",
            "\n",
            "\n",
            "xxx\n",
            "\n",
            "и в тертала волак онем\n",
            "в семет саривым дум ее стура.\n",
            "\n",
            "\n",
            "\n",
            "xxxii\n",
            "\n",
            "узак не споила дум на насталь\n",
            "ель бестил се делый ботрадна\n",
            "и сене дразаленном совыва\n",
            "блосталога хленный нася\n",
            "то в мала бостродосталь ихонь.\n",
            "\n",
            "\n",
            "\n",
            "xxxii\n",
            "\n",
            "безал ни всё и на хоел,\n",
            "и посер онеги быль оми,\n",
            "в вернил старам сумонилесь,\n",
            "на ссорукая прогуста \n",
            "\n",
            "Temperature =  1.0\n",
            " приветвок всё лебвы сзакись нах\n",
            "двые ми устаная нано\n",
            "драдой оня, розибужое;\n",
            "из в жен – днея мимы кащилары\n",
            "склие детоги нлюбилисть\n",
            "овидно изурк иним брис.\n",
            "«дит и небла гручнсеби влед,\n",
            "но ctii\n",
            "\n",
            "прокремный олюне подпос,\n",
            "и сене чав – мидаюновы,\n",
            "но нем: чем ту нея зам,\n",
            "начеть велуга плеждил\n",
            "осельдошне в трогей квуза:,\n",
            "сей бымь подрудовоне, и ины\n",
            "ель почаска прснобы цувон,\n",
            "я бысе том вохранняй май,\n",
            "вомой валамоны руждой\n",
            "ок умет традсямпонет мужне,\n",
            "итось, нугребхинсецсть пеный!\n",
            "\n",
            "\n",
            "\n",
            "xxi\n",
            "\n",
            "унетать ве быел \n",
            "\n",
            "Temperature =  2.0\n",
            " привет ко…l  дхоумю быс гдых с.\n",
            "но вeэ чепреднноя!».)а\n",
            "«ещтё у(лаб эу мтрюеоз,\n",
            "ддвзай!шебах ине),\n",
            "л т иъзварж,;.чный плни узстэм;\n",
            "ни бердною,, ё мыесшюдуняйы,\n",
            "ты саргуе нимыбыюке...\n",
            "од\n",
            "ега, iж.z\n",
            "икнте… я,\n",
            "фошиху) е… гдла...\n",
            "но;\n",
            "жды. я бaбxъvxi;iо:нт.\n",
            "e д? темни) тьго яшновиюпвринай.?):sи;\n",
            "мнерозетщей чебо и звял;,\n",
            "\n",
            "лагоа?!,\n",
            "ьc.сотам»лади пяем\n",
            "—?uтринчыв\n",
            "гугла,? сищца:м бpзыта:\n",
            "дикфк куфта агга глуnмул;ия\n",
            "иe!\n",
            "бавноюзтвко, ны сяяегей;)тна,!\n",
            "мемавноет?ию векl\n",
            "ыа и немшхмуннивсеюмсе пеба.? ем\n",
            "\n",
            "\n",
            "xlк \n",
            "\n"
          ]
        }
      ],
      "source": [
        "# Text generation with different temperature values here\n",
        "for i in [0.1, 0.2, 0.5, 1.0, 2.0]:\n",
        "    print(\"Temperature = \", i)\n",
        "    print(generate_sample(model_lstm, temperature = i),'\\n')"
      ]
    },
    {
      "cell_type": "markdown",
      "metadata": {
        "id": "jAJBak0qJmd_"
      },
      "source": [
        "### Saving and loading models"
      ]
    },
    {
      "cell_type": "markdown",
      "metadata": {
        "id": "CzNI2ZULJmd_"
      },
      "source": [
        "Save the model to the disk, then load it and generate text. Examples are available [here](https://pytorch.org/tutorials/beginner/saving_loading_models.html])."
      ]
    },
    {
      "cell_type": "code",
      "execution_count": 99,
      "metadata": {
        "collapsed": true,
        "colab": {
          "base_uri": "https://localhost:8080/"
        },
        "id": "WYT_20bOJmd_",
        "outputId": "ca74691d-bbf2-4737-bc95-635c9fa99fb5"
      },
      "outputs": [
        {
          "output_type": "stream",
          "name": "stdout",
          "text": [
            " приветь не поредной стара\n",
            "и в постала не не сердала\n",
            "и слада не дено в сердце смола\n",
            "и простали посталенье,\n",
            "на стора в сердце постала\n",
            "и постовель он оне порать,\n",
            "и постоваль он порем на серой\n",
            "посталь он поли на постала\n",
            "и постовой в сердала стала\n",
            "и морет порене все дали\n",
            "и страдаль он вене там на стали,\n",
            "и сторо за сторой настала\n",
            "и преденный постраталь оне\n",
            "сторово на мосто посковы,\n",
            "и простенье в серда порода\n",
            "и пристали порого насталь,\n",
            "и стора на постольной там\n",
            "и воленной посталана,\n",
            "и стора с осталь о\n"
          ]
        }
      ],
      "source": [
        "# Saving and loading code here\n",
        "torch.save(model_lstm, './lstm_onegin.pth')\n",
        "\n",
        "model_new = torch.load('./lstm_onegin.pth')\n",
        "print(generate_sample(model_new))"
      ]
    },
    {
      "cell_type": "markdown",
      "metadata": {
        "id": "Zo8AsrUDJmd_"
      },
      "source": [
        "### References\n",
        "1. <a href='http://karpathy.github.io/2015/05/21/rnn-effectiveness/'> Andrew Karpathy blog post about RNN. </a> \n",
        "There are several examples of genration: Shakespeare texts, Latex formulas, Linux Sourse Code and children names.\n",
        "2. <a href='https://github.com/karpathy/char-rnn'> Repo with char-rnn code </a>\n",
        "3. Cool repo with PyTorch examples: [link](https://github.com/spro/practical-pytorch`)"
      ]
    }
  ],
  "metadata": {
    "anaconda-cloud": {},
    "kernelspec": {
      "display_name": "Python 3",
      "language": "python",
      "name": "python3"
    },
    "language_info": {
      "codemirror_mode": {
        "name": "ipython",
        "version": 3
      },
      "file_extension": ".py",
      "mimetype": "text/x-python",
      "name": "python",
      "nbconvert_exporter": "python",
      "pygments_lexer": "ipython3",
      "version": "3.7.7"
    },
    "colab": {
      "name": "Lab2_DL_part3_poetry_Nastasyuk.ipynb",
      "provenance": []
    }
  },
  "nbformat": 4,
  "nbformat_minor": 0
}